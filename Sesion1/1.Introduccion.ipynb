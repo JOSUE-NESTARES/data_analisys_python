{
 "cells": [
  {
   "cell_type": "code",
   "execution_count": 17,
   "metadata": {},
   "outputs": [
    {
     "name": "stdout",
     "output_type": "stream",
     "text": [
      "[2, 4, 5, 6, 7, 8, 3, 20, 1, 22, 11, 13, 10, 12]\n"
     ]
    }
   ],
   "source": [
    "def eliminacion (lista_entrada):\n",
    "    nueva_lista = []\n",
    "    for y in lista_entrada:\n",
    "        if y not in nueva_lista:\n",
    "            nueva_lista.append(y)\n",
    "    return nueva_lista\n",
    "\n",
    "print(eliminacion([2,4,2,5,6,2,5,4,7,8,7,6,3,4,20,1,22,20,2,6,6,3,5,8,6,11,13,10,11,12,2,6,4,3,8,7]))"
   ]
  },
  {
   "cell_type": "code",
   "execution_count": 25,
   "metadata": {},
   "outputs": [
    {
     "name": "stdout",
     "output_type": "stream",
     "text": [
      "indice del elemento: 2 es 1\n"
     ]
    }
   ],
   "source": [
    "def buscador (lista,elemento):\n",
    "    for indice,item in enumerate (lista):\n",
    "        if item == elemento :\n",
    "            print('indice del elemento: '+str(elemento)+' es '+str(indice))\n",
    "            return\n",
    "    return ('no se encontró elemento')\n",
    "\n",
    "buscador([1,2,3,4,5,6,7,8],2)"
   ]
  }
 ],
 "metadata": {
  "kernelspec": {
   "display_name": "Python 3",
   "language": "python",
   "name": "python3"
  },
  "language_info": {
   "codemirror_mode": {
    "name": "ipython",
    "version": 3
   },
   "file_extension": ".py",
   "mimetype": "text/x-python",
   "name": "python",
   "nbconvert_exporter": "python",
   "pygments_lexer": "ipython3",
   "version": "3.12.1"
  }
 },
 "nbformat": 4,
 "nbformat_minor": 2
}
